{
 "cells": [
  {
   "attachments": {},
   "cell_type": "markdown",
   "metadata": {},
   "source": [
    "## **Modul 2: Data Analysis - Inferential Statistics**"
   ]
  },
  {
   "attachments": {},
   "cell_type": "markdown",
   "metadata": {},
   "source": [
    "### **Latihan Uji Statistik**"
   ]
  },
  {
   "cell_type": "code",
   "execution_count": 101,
   "metadata": {},
   "outputs": [],
   "source": [
    "# import libraries\n",
    "import numpy as np\n",
    "import pandas as pd\n",
    "import seaborn as sns\n",
    "import scipy.stats as stats"
   ]
  },
  {
   "cell_type": "code",
   "execution_count": 102,
   "metadata": {},
   "outputs": [
    {
     "data": {
      "text/html": [
       "<div>\n",
       "<style scoped>\n",
       "    .dataframe tbody tr th:only-of-type {\n",
       "        vertical-align: middle;\n",
       "    }\n",
       "\n",
       "    .dataframe tbody tr th {\n",
       "        vertical-align: top;\n",
       "    }\n",
       "\n",
       "    .dataframe thead th {\n",
       "        text-align: right;\n",
       "    }\n",
       "</style>\n",
       "<table border=\"1\" class=\"dataframe\">\n",
       "  <thead>\n",
       "    <tr style=\"text-align: right;\">\n",
       "      <th></th>\n",
       "      <th>brand</th>\n",
       "      <th>model</th>\n",
       "      <th>year</th>\n",
       "      <th>price</th>\n",
       "      <th>transmission</th>\n",
       "      <th>mileage</th>\n",
       "      <th>fuelType</th>\n",
       "      <th>tax</th>\n",
       "      <th>mpg</th>\n",
       "      <th>engineSize</th>\n",
       "    </tr>\n",
       "  </thead>\n",
       "  <tbody>\n",
       "    <tr>\n",
       "      <th>0</th>\n",
       "      <td>Audi</td>\n",
       "      <td>A1</td>\n",
       "      <td>2017</td>\n",
       "      <td>12500</td>\n",
       "      <td>Manual</td>\n",
       "      <td>15735</td>\n",
       "      <td>Petrol</td>\n",
       "      <td>150</td>\n",
       "      <td>55.4</td>\n",
       "      <td>1.4</td>\n",
       "    </tr>\n",
       "    <tr>\n",
       "      <th>1</th>\n",
       "      <td>Audi</td>\n",
       "      <td>A6</td>\n",
       "      <td>2016</td>\n",
       "      <td>16500</td>\n",
       "      <td>Automatic</td>\n",
       "      <td>36203</td>\n",
       "      <td>Diesel</td>\n",
       "      <td>20</td>\n",
       "      <td>64.2</td>\n",
       "      <td>2.0</td>\n",
       "    </tr>\n",
       "    <tr>\n",
       "      <th>2</th>\n",
       "      <td>Audi</td>\n",
       "      <td>A1</td>\n",
       "      <td>2016</td>\n",
       "      <td>11000</td>\n",
       "      <td>Manual</td>\n",
       "      <td>29946</td>\n",
       "      <td>Petrol</td>\n",
       "      <td>30</td>\n",
       "      <td>55.4</td>\n",
       "      <td>1.4</td>\n",
       "    </tr>\n",
       "    <tr>\n",
       "      <th>3</th>\n",
       "      <td>Audi</td>\n",
       "      <td>A4</td>\n",
       "      <td>2017</td>\n",
       "      <td>16800</td>\n",
       "      <td>Automatic</td>\n",
       "      <td>25952</td>\n",
       "      <td>Diesel</td>\n",
       "      <td>145</td>\n",
       "      <td>67.3</td>\n",
       "      <td>2.0</td>\n",
       "    </tr>\n",
       "    <tr>\n",
       "      <th>4</th>\n",
       "      <td>Audi</td>\n",
       "      <td>A3</td>\n",
       "      <td>2019</td>\n",
       "      <td>17300</td>\n",
       "      <td>Manual</td>\n",
       "      <td>1998</td>\n",
       "      <td>Petrol</td>\n",
       "      <td>145</td>\n",
       "      <td>49.6</td>\n",
       "      <td>1.0</td>\n",
       "    </tr>\n",
       "  </tbody>\n",
       "</table>\n",
       "</div>"
      ],
      "text/plain": [
       "  brand model  year  price transmission  mileage fuelType  tax   mpg  \\\n",
       "0  Audi    A1  2017  12500       Manual    15735   Petrol  150  55.4   \n",
       "1  Audi    A6  2016  16500    Automatic    36203   Diesel   20  64.2   \n",
       "2  Audi    A1  2016  11000       Manual    29946   Petrol   30  55.4   \n",
       "3  Audi    A4  2017  16800    Automatic    25952   Diesel  145  67.3   \n",
       "4  Audi    A3  2019  17300       Manual     1998   Petrol  145  49.6   \n",
       "\n",
       "   engineSize  \n",
       "0         1.4  \n",
       "1         2.0  \n",
       "2         1.4  \n",
       "3         2.0  \n",
       "4         1.0  "
      ]
     },
     "execution_count": 102,
     "metadata": {},
     "output_type": "execute_result"
    }
   ],
   "source": [
    "df_car = pd.read_csv('all_cars.csv')\n",
    "df_car.head()"
   ]
  },
  {
   "cell_type": "code",
   "execution_count": 103,
   "metadata": {},
   "outputs": [
    {
     "data": {
      "text/plain": [
       "brand\n",
       "Audi       10668\n",
       "Toyota      6738\n",
       "Hyundai     4860\n",
       "Name: count, dtype: int64"
      ]
     },
     "execution_count": 103,
     "metadata": {},
     "output_type": "execute_result"
    }
   ],
   "source": [
    "df_car['brand'].value_counts()"
   ]
  },
  {
   "attachments": {},
   "cell_type": "markdown",
   "metadata": {},
   "source": [
    "1. Apakah data pada kolom price berdasarkan brand Audi, Toyota, Hyundai terdistribusi normal atau tidak? Buktikan dengan Uji Normalitas!"
   ]
  },
  {
   "cell_type": "code",
   "execution_count": 104,
   "metadata": {},
   "outputs": [
    {
     "name": "stderr",
     "output_type": "stream",
     "text": [
      "c:\\Users\\Vincent\\AppData\\Local\\Programs\\Python\\Python311\\Lib\\site-packages\\scipy\\stats\\_morestats.py:1882: UserWarning: p-value may not be accurate for N > 5000.\n",
      "  warnings.warn(\"p-value may not be accurate for N > 5000.\")\n"
     ]
    },
    {
     "name": "stdout",
     "output_type": "stream",
     "text": [
      "Brand Audi tidak terdistribusi normal dengan Pvalue = 0.0\n",
      "Brand Hyundai tidak terdistribusi normal dengan Pvalue = 0.0\n",
      "Brand Toyota tidak terdistribusi normal dengan Pvalue = 0.0\n"
     ]
    },
    {
     "name": "stderr",
     "output_type": "stream",
     "text": [
      "c:\\Users\\Vincent\\AppData\\Local\\Programs\\Python\\Python311\\Lib\\site-packages\\scipy\\stats\\_morestats.py:1882: UserWarning: p-value may not be accurate for N > 5000.\n",
      "  warnings.warn(\"p-value may not be accurate for N > 5000.\")\n"
     ]
    },
    {
     "data": {
      "image/png": "[encoded data removed]",
      "text/plain": [
       "<Figure size 1200x1200 with 3 Axes>"
      ]
     },
     "metadata": {},
     "output_type": "display_data"
    }
   ],
   "source": [
    "from scipy.stats import shapiro\n",
    "import matplotlib.pyplot as plt\n",
    "\n",
    "fig, axs = plt.subplots(3, 1, figsize=(12, 12))\n",
    "b=0\n",
    "for brand in df_car['brand'].unique():\n",
    "    sh = shapiro(df_car[df_car['brand']==brand]['price'])\n",
    "    if sh[1]>=0.05:\n",
    "        print(f'Brand {brand} terdistribusi normal dengan Pvalue = {sh[1]}')\n",
    "    else:\n",
    "        print(f'Brand {brand} tidak terdistribusi normal dengan Pvalue = {sh[1]}')\n",
    "    sns.histplot(data=df_car[df_car['brand']==brand]['price'], kde=True, ax=axs[b])\n",
    "    b+=1"
   ]
  },
  {
   "attachments": {},
   "cell_type": "markdown",
   "metadata": {},
   "source": [
    "2. Bagaimana hubungan antar variabel numerikal di dataset all_cars ini? Variabel mana yang\n",
    "hubungannya paling kuat? Buktikan dengan Uji Statistik!"
   ]
  },
  {
   "cell_type": "code",
   "execution_count": 105,
   "metadata": {},
   "outputs": [
    {
     "name": "stdout",
     "output_type": "stream",
     "text": [
      "Hubungan antara year & mileage adalah yang terkuat dengan nilai 0.750590889415613\n"
     ]
    },
    {
     "data": {
      "text/html": [
       "<div>\n",
       "<style scoped>\n",
       "    .dataframe tbody tr th:only-of-type {\n",
       "        vertical-align: middle;\n",
       "    }\n",
       "\n",
       "    .dataframe tbody tr th {\n",
       "        vertical-align: top;\n",
       "    }\n",
       "\n",
       "    .dataframe thead th {\n",
       "        text-align: right;\n",
       "    }\n",
       "</style>\n",
       "<table border=\"1\" class=\"dataframe\">\n",
       "  <thead>\n",
       "    <tr style=\"text-align: right;\">\n",
       "      <th></th>\n",
       "      <th>year</th>\n",
       "      <th>price</th>\n",
       "      <th>mileage</th>\n",
       "      <th>tax</th>\n",
       "      <th>mpg</th>\n",
       "      <th>engineSize</th>\n",
       "    </tr>\n",
       "  </thead>\n",
       "  <tbody>\n",
       "    <tr>\n",
       "      <th>year</th>\n",
       "      <td>1.000000</td>\n",
       "      <td>0.485282</td>\n",
       "      <td>-0.750591</td>\n",
       "      <td>0.199393</td>\n",
       "      <td>-0.213283</td>\n",
       "      <td>-0.013248</td>\n",
       "    </tr>\n",
       "    <tr>\n",
       "      <th>price</th>\n",
       "      <td>0.485282</td>\n",
       "      <td>1.000000</td>\n",
       "      <td>-0.381781</td>\n",
       "      <td>0.331584</td>\n",
       "      <td>-0.458494</td>\n",
       "      <td>0.679662</td>\n",
       "    </tr>\n",
       "    <tr>\n",
       "      <th>mileage</th>\n",
       "      <td>-0.750591</td>\n",
       "      <td>-0.381781</td>\n",
       "      <td>1.000000</td>\n",
       "      <td>-0.173179</td>\n",
       "      <td>0.213710</td>\n",
       "      <td>0.126746</td>\n",
       "    </tr>\n",
       "    <tr>\n",
       "      <th>tax</th>\n",
       "      <td>0.199393</td>\n",
       "      <td>0.331584</td>\n",
       "      <td>-0.173179</td>\n",
       "      <td>1.000000</td>\n",
       "      <td>-0.551931</td>\n",
       "      <td>0.322920</td>\n",
       "    </tr>\n",
       "    <tr>\n",
       "      <th>mpg</th>\n",
       "      <td>-0.213283</td>\n",
       "      <td>-0.458494</td>\n",
       "      <td>0.213710</td>\n",
       "      <td>-0.551931</td>\n",
       "      <td>1.000000</td>\n",
       "      <td>-0.331834</td>\n",
       "    </tr>\n",
       "    <tr>\n",
       "      <th>engineSize</th>\n",
       "      <td>-0.013248</td>\n",
       "      <td>0.679662</td>\n",
       "      <td>0.126746</td>\n",
       "      <td>0.322920</td>\n",
       "      <td>-0.331834</td>\n",
       "      <td>1.000000</td>\n",
       "    </tr>\n",
       "  </tbody>\n",
       "</table>\n",
       "</div>"
      ],
      "text/plain": [
       "                year     price   mileage       tax       mpg  engineSize\n",
       "year        1.000000  0.485282 -0.750591  0.199393 -0.213283   -0.013248\n",
       "price       0.485282  1.000000 -0.381781  0.331584 -0.458494    0.679662\n",
       "mileage    -0.750591 -0.381781  1.000000 -0.173179  0.213710    0.126746\n",
       "tax         0.199393  0.331584 -0.173179  1.000000 -0.551931    0.322920\n",
       "mpg        -0.213283 -0.458494  0.213710 -0.551931  1.000000   -0.331834\n",
       "engineSize -0.013248  0.679662  0.126746  0.322920 -0.331834    1.000000"
      ]
     },
     "execution_count": 105,
     "metadata": {},
     "output_type": "execute_result"
    }
   ],
   "source": [
    "df_pearson = df_car.corr(numeric_only=True,method='pearson')\n",
    "\n",
    "df_pearson2 = pd.DataFrame(np.where(df_pearson==1,0,df_pearson))\n",
    "df_pearson2 = df_pearson2.abs()\n",
    "\n",
    "numeric_index = {}\n",
    "nd = 0\n",
    "for num in df_pearson.columns:\n",
    "    numeric_index[nd] = num\n",
    "    nd+=1\n",
    "df_pearson2.rename(index=numeric_index,columns=numeric_index,inplace=True)\n",
    "\n",
    "label2 = df_pearson2.columns[df_pearson2.isin([df_pearson2.max().max()]).any()]\n",
    "\n",
    "print(f'Hubungan antara {label2[0]} & {label2[1]} adalah yang terkuat dengan nilai {df_pearson2.max().max()}')\n",
    "df_pearson\n"
   ]
  },
  {
   "attachments": {},
   "cell_type": "markdown",
   "metadata": {},
   "source": [
    "3. Buat sebuah dataframe berisi mobil Hyundai dan Toyota tahun 2019! Dari dataframe yang telah dibuat, lakukan uji hipotesis untuk membuktikan apakah brand mobil ada kaitannya dengan jenis transmisi!"
   ]
  },
  {
   "cell_type": "code",
   "execution_count": 106,
   "metadata": {},
   "outputs": [
    {
     "data": {
      "text/html": [
       "<div>\n",
       "<style scoped>\n",
       "    .dataframe tbody tr th:only-of-type {\n",
       "        vertical-align: middle;\n",
       "    }\n",
       "\n",
       "    .dataframe tbody tr th {\n",
       "        vertical-align: top;\n",
       "    }\n",
       "\n",
       "    .dataframe thead th {\n",
       "        text-align: right;\n",
       "    }\n",
       "</style>\n",
       "<table border=\"1\" class=\"dataframe\">\n",
       "  <thead>\n",
       "    <tr style=\"text-align: right;\">\n",
       "      <th></th>\n",
       "      <th>brand</th>\n",
       "      <th>model</th>\n",
       "      <th>year</th>\n",
       "      <th>price</th>\n",
       "      <th>transmission</th>\n",
       "      <th>mileage</th>\n",
       "      <th>fuelType</th>\n",
       "      <th>tax</th>\n",
       "      <th>mpg</th>\n",
       "      <th>engineSize</th>\n",
       "    </tr>\n",
       "  </thead>\n",
       "  <tbody>\n",
       "    <tr>\n",
       "      <th>10681</th>\n",
       "      <td>Hyundai</td>\n",
       "      <td>Tucson</td>\n",
       "      <td>2019</td>\n",
       "      <td>17750</td>\n",
       "      <td>Manual</td>\n",
       "      <td>10000</td>\n",
       "      <td>Petrol</td>\n",
       "      <td>150</td>\n",
       "      <td>34.9</td>\n",
       "      <td>1.6</td>\n",
       "    </tr>\n",
       "    <tr>\n",
       "      <th>10704</th>\n",
       "      <td>Hyundai</td>\n",
       "      <td>Tucson</td>\n",
       "      <td>2019</td>\n",
       "      <td>18000</td>\n",
       "      <td>Manual</td>\n",
       "      <td>4353</td>\n",
       "      <td>Petrol</td>\n",
       "      <td>145</td>\n",
       "      <td>35.3</td>\n",
       "      <td>1.6</td>\n",
       "    </tr>\n",
       "    <tr>\n",
       "      <th>10708</th>\n",
       "      <td>Hyundai</td>\n",
       "      <td>I30</td>\n",
       "      <td>2019</td>\n",
       "      <td>14500</td>\n",
       "      <td>Manual</td>\n",
       "      <td>2481</td>\n",
       "      <td>Petrol</td>\n",
       "      <td>145</td>\n",
       "      <td>41.5</td>\n",
       "      <td>0.0</td>\n",
       "    </tr>\n",
       "    <tr>\n",
       "      <th>10726</th>\n",
       "      <td>Hyundai</td>\n",
       "      <td>I10</td>\n",
       "      <td>2019</td>\n",
       "      <td>8600</td>\n",
       "      <td>Manual</td>\n",
       "      <td>4920</td>\n",
       "      <td>Petrol</td>\n",
       "      <td>145</td>\n",
       "      <td>60.1</td>\n",
       "      <td>1.0</td>\n",
       "    </tr>\n",
       "    <tr>\n",
       "      <th>10730</th>\n",
       "      <td>Hyundai</td>\n",
       "      <td>Tucson</td>\n",
       "      <td>2019</td>\n",
       "      <td>15000</td>\n",
       "      <td>Manual</td>\n",
       "      <td>22397</td>\n",
       "      <td>Petrol</td>\n",
       "      <td>150</td>\n",
       "      <td>34.9</td>\n",
       "      <td>0.0</td>\n",
       "    </tr>\n",
       "    <tr>\n",
       "      <th>...</th>\n",
       "      <td>...</td>\n",
       "      <td>...</td>\n",
       "      <td>...</td>\n",
       "      <td>...</td>\n",
       "      <td>...</td>\n",
       "      <td>...</td>\n",
       "      <td>...</td>\n",
       "      <td>...</td>\n",
       "      <td>...</td>\n",
       "      <td>...</td>\n",
       "    </tr>\n",
       "    <tr>\n",
       "      <th>22246</th>\n",
       "      <td>Toyota</td>\n",
       "      <td>Camry</td>\n",
       "      <td>2019</td>\n",
       "      <td>26491</td>\n",
       "      <td>Automatic</td>\n",
       "      <td>4416</td>\n",
       "      <td>Hybrid</td>\n",
       "      <td>135</td>\n",
       "      <td>52.3</td>\n",
       "      <td>2.5</td>\n",
       "    </tr>\n",
       "    <tr>\n",
       "      <th>22247</th>\n",
       "      <td>Toyota</td>\n",
       "      <td>Camry</td>\n",
       "      <td>2019</td>\n",
       "      <td>27550</td>\n",
       "      <td>Automatic</td>\n",
       "      <td>4189</td>\n",
       "      <td>Hybrid</td>\n",
       "      <td>135</td>\n",
       "      <td>52.3</td>\n",
       "      <td>2.5</td>\n",
       "    </tr>\n",
       "    <tr>\n",
       "      <th>22248</th>\n",
       "      <td>Toyota</td>\n",
       "      <td>Camry</td>\n",
       "      <td>2019</td>\n",
       "      <td>25490</td>\n",
       "      <td>Automatic</td>\n",
       "      <td>6340</td>\n",
       "      <td>Hybrid</td>\n",
       "      <td>135</td>\n",
       "      <td>52.3</td>\n",
       "      <td>2.5</td>\n",
       "    </tr>\n",
       "    <tr>\n",
       "      <th>22249</th>\n",
       "      <td>Toyota</td>\n",
       "      <td>Camry</td>\n",
       "      <td>2019</td>\n",
       "      <td>26990</td>\n",
       "      <td>Automatic</td>\n",
       "      <td>3000</td>\n",
       "      <td>Hybrid</td>\n",
       "      <td>135</td>\n",
       "      <td>52.3</td>\n",
       "      <td>2.5</td>\n",
       "    </tr>\n",
       "    <tr>\n",
       "      <th>22250</th>\n",
       "      <td>Toyota</td>\n",
       "      <td>Camry</td>\n",
       "      <td>2019</td>\n",
       "      <td>25990</td>\n",
       "      <td>Automatic</td>\n",
       "      <td>10732</td>\n",
       "      <td>Hybrid</td>\n",
       "      <td>135</td>\n",
       "      <td>52.3</td>\n",
       "      <td>2.5</td>\n",
       "    </tr>\n",
       "  </tbody>\n",
       "</table>\n",
       "<p>2372 rows × 10 columns</p>\n",
       "</div>"
      ],
      "text/plain": [
       "         brand   model  year  price transmission  mileage fuelType  tax   mpg  \\\n",
       "10681  Hyundai  Tucson  2019  17750       Manual    10000   Petrol  150  34.9   \n",
       "10704  Hyundai  Tucson  2019  18000       Manual     4353   Petrol  145  35.3   \n",
       "10708  Hyundai     I30  2019  14500       Manual     2481   Petrol  145  41.5   \n",
       "10726  Hyundai     I10  2019   8600       Manual     4920   Petrol  145  60.1   \n",
       "10730  Hyundai  Tucson  2019  15000       Manual    22397   Petrol  150  34.9   \n",
       "...        ...     ...   ...    ...          ...      ...      ...  ...   ...   \n",
       "22246   Toyota   Camry  2019  26491    Automatic     4416   Hybrid  135  52.3   \n",
       "22247   Toyota   Camry  2019  27550    Automatic     4189   Hybrid  135  52.3   \n",
       "22248   Toyota   Camry  2019  25490    Automatic     6340   Hybrid  135  52.3   \n",
       "22249   Toyota   Camry  2019  26990    Automatic     3000   Hybrid  135  52.3   \n",
       "22250   Toyota   Camry  2019  25990    Automatic    10732   Hybrid  135  52.3   \n",
       "\n",
       "       engineSize  \n",
       "10681         1.6  \n",
       "10704         1.6  \n",
       "10708         0.0  \n",
       "10726         1.0  \n",
       "10730         0.0  \n",
       "...           ...  \n",
       "22246         2.5  \n",
       "22247         2.5  \n",
       "22248         2.5  \n",
       "22249         2.5  \n",
       "22250         2.5  \n",
       "\n",
       "[2372 rows x 10 columns]"
      ]
     },
     "execution_count": 106,
     "metadata": {},
     "output_type": "execute_result"
    }
   ],
   "source": [
    "brand3 = ['Hyundai','Toyota']\n",
    "df_HT19 = df_car[(df_car['year']==2019)&((df_car['brand']==brand3[0])|(df_car['brand']==brand3[1]))]\n",
    "df_HT19\n"
   ]
  },
  {
   "cell_type": "code",
   "execution_count": 107,
   "metadata": {},
   "outputs": [
    {
     "data": {
      "text/html": [
       "<div>\n",
       "<style scoped>\n",
       "    .dataframe tbody tr th:only-of-type {\n",
       "        vertical-align: middle;\n",
       "    }\n",
       "\n",
       "    .dataframe tbody tr th {\n",
       "        vertical-align: top;\n",
       "    }\n",
       "\n",
       "    .dataframe thead th {\n",
       "        text-align: right;\n",
       "    }\n",
       "</style>\n",
       "<table border=\"1\" class=\"dataframe\">\n",
       "  <thead>\n",
       "    <tr style=\"text-align: right;\">\n",
       "      <th>transmission</th>\n",
       "      <th>Automatic</th>\n",
       "      <th>Manual</th>\n",
       "      <th>Semi-Auto</th>\n",
       "    </tr>\n",
       "    <tr>\n",
       "      <th>brand</th>\n",
       "      <th></th>\n",
       "      <th></th>\n",
       "      <th></th>\n",
       "    </tr>\n",
       "  </thead>\n",
       "  <tbody>\n",
       "    <tr>\n",
       "      <th>Hyundai</th>\n",
       "      <td>185</td>\n",
       "      <td>695</td>\n",
       "      <td>206</td>\n",
       "    </tr>\n",
       "    <tr>\n",
       "      <th>Toyota</th>\n",
       "      <td>470</td>\n",
       "      <td>764</td>\n",
       "      <td>52</td>\n",
       "    </tr>\n",
       "  </tbody>\n",
       "</table>\n",
       "</div>"
      ],
      "text/plain": [
       "transmission  Automatic  Manual  Semi-Auto\n",
       "brand                                     \n",
       "Hyundai             185     695        206\n",
       "Toyota              470     764         52"
      ]
     },
     "execution_count": 107,
     "metadata": {},
     "output_type": "execute_result"
    }
   ],
   "source": [
    "df_pv_HT19 = df_HT19[['brand','transmission']].pivot_table('transmission','brand','transmission',len)\n",
    "df_pv_HT19\n"
   ]
  },
  {
   "cell_type": "code",
   "execution_count": 108,
   "metadata": {},
   "outputs": [
    {
     "data": {
      "text/plain": [
       "array([<Axes: ylabel='Automatic'>, <Axes: ylabel='Manual'>,\n",
       "       <Axes: ylabel='Semi-Auto'>], dtype=object)"
      ]
     },
     "execution_count": 108,
     "metadata": {},
     "output_type": "execute_result"
    },
    {
     "data": {
      "image/png": "[encoded data removed]",
      "text/plain": [
       "<Figure size 640x480 with 3 Axes>"
      ]
     },
     "metadata": {},
     "output_type": "display_data"
    }
   ],
   "source": [
    "df_pv_HT19.plot(kind='pie',subplots=True)"
   ]
  },
  {
   "cell_type": "code",
   "execution_count": 109,
   "metadata": {},
   "outputs": [
    {
     "name": "stdout",
     "output_type": "stream",
     "text": [
      "Kedua variable Ha: kedua variable berkaitan bukan ho: kedua variabel tidak berkaitan dengan Pvalue = 5.623815000905951e-45\n"
     ]
    }
   ],
   "source": [
    "from scipy.stats import chi2_contingency\n",
    "chi3 = chi2_contingency(df_pv_HT19)\n",
    "\n",
    "# if 0<chi3[1]<=0.3:\n",
    "#     print(f'{brand3[0]} Transmission & {brand3[1]} Transmission in 2019 has weak correlation with Pvalue = {chi3[1]}')\n",
    "# elif 0.3<chi3[1]<=0.7:\n",
    "#     print(f'{brand3[0]} Transmission & {brand3[1]} Transmission in 2019 has medium correlation with Pvalue = {chi3[1]}')\n",
    "# else:\n",
    "#     print(f'{brand3[0]} Transmission & {brand3[1]} Transmission in 2019 has strong correlation with Pvalue = {chi3[1]}')\n",
    "\n",
    "chi3\n",
    "print(f'Kedua variable Ha: kedua variable berkaitan bukan ho: kedua variabel tidak berkaitan dengan Pvalue = {chi3[1]}')"
   ]
  },
  {
   "attachments": {},
   "cell_type": "markdown",
   "metadata": {},
   "source": [
    "4. Apakah 50% dari seluruh mobil yang dijual menggunakan bahan bakar Petrol? Buktikan dengan uji statistik!"
   ]
  },
  {
   "cell_type": "code",
   "execution_count": 110,
   "metadata": {},
   "outputs": [
    {
     "data": {
      "text/plain": [
       "array(['Petrol', 'Diesel', 'Hybrid', 'Other'], dtype=object)"
      ]
     },
     "execution_count": 110,
     "metadata": {},
     "output_type": "execute_result"
    }
   ],
   "source": [
    "df_car['fuelType'].unique()"
   ]
  },
  {
   "cell_type": "code",
   "execution_count": 111,
   "metadata": {},
   "outputs": [
    {
     "data": {
      "text/plain": [
       "0.5412736908290667"
      ]
     },
     "execution_count": 111,
     "metadata": {},
     "output_type": "execute_result"
    }
   ],
   "source": [
    "ha4 = df_car['fuelType'].value_counts()['Petrol']/len(df_car['fuelType'])\n",
    "ha4"
   ]
  },
  {
   "cell_type": "code",
   "execution_count": 112,
   "metadata": {},
   "outputs": [
    {
     "name": "stdout",
     "output_type": "stream",
     "text": [
      "Berdasarkan Uji Proposi Z-Test dengan alpha 0.05 terbukti bahwa 50% dari seluruh mobil yang dijual\n",
      "tidak menggunakan bahan bakar Petrol dengan nilai Pvalue 4.3158227056675195e-35\n"
     ]
    }
   ],
   "source": [
    "from statsmodels.stats.proportion import proportions_ztest\n",
    "alpha4 = 0.05\n",
    "ho4 = 0.5\n",
    "Z_test4 = proportions_ztest(count = df_car['fuelType'].value_counts()['Petrol'],\n",
    "                            nobs = len(df_car['fuelType']), value = ho4)\n",
    "if Z_test4[1]<=alpha4:\n",
    "    print(f'Berdasarkan Uji Proposi Z-Test dengan alpha {alpha4} terbukti bahwa 50% dari seluruh mobil yang dijual\\ntidak menggunakan bahan bakar Petrol dengan nilai Pvalue {Z_test4[1]}')\n",
    "else:\n",
    "    print(f'Berdasarkan Uji Proposi Z-Test dengan alpha {alpha4} terbukti bahwa 50% dari seluruh mobil yang dijual\\nmenggunakan bahan bakar Petrol dengan nilai Pvalue {Z_test4[1]}')\n"
   ]
  },
  {
   "attachments": {},
   "cell_type": "markdown",
   "metadata": {},
   "source": [
    "### **Referensi buku statistika:**\n",
    "\n",
    "- Statistics The Art and Science of Learning from Data (Agresti et al., 2018)\n",
    "- Businees Statistics for Contemporary Decision Making (Black, 2012)\n",
    "- Practical Statistics for Data Scientist (Bruce & Bruce, 2017)"
   ]
  }
 ],
 "metadata": {
  "kernelspec": {
   "display_name": "Python 3.10.5 ('pwdenv')",
   "language": "python",
   "name": "python3"
  },
  "language_info": {
   "codemirror_mode": {
    "name": "ipython",
    "version": 3
   },
   "file_extension": ".py",
   "mimetype": "text/x-python",
   "name": "python",
   "nbconvert_exporter": "python",
   "pygments_lexer": "ipython3",
   "version": "3.11.4"
  },
  "orig_nbformat": 4,
  "vscode": {
   "interpreter": {
    "hash": "26d83cb9ebc769f8a392797c85547e3220df367d4f886ed011b3f771d6a84444"
   }
  }
 },
 "nbformat": 4,
 "nbformat_minor": 2
}
