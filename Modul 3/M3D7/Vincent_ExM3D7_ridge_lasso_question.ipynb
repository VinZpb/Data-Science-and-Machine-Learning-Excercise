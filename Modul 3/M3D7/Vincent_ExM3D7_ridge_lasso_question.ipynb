{
 "cells": [
  {
   "cell_type": "code",
   "execution_count": 27,
   "metadata": {},
   "outputs": [],
   "source": [
    "import numpy as np\n",
    "import pandas as pd\n",
    "import matplotlib.pyplot as plt\n",
    "import seaborn as sns\n",
    "from sklearn.model_selection import train_test_split\n",
    "from sklearn.preprocessing import MinMaxScaler\n",
    "from sklearn.linear_model import Ridge, Lasso\n",
    "from sklearn.metrics import mean_squared_error"
   ]
  },
  {
   "cell_type": "markdown",
   "metadata": {},
   "source": [
    "## **Exercise: Model Complexity in Linear Model**\n",
    "\n",
    "**Gunakan dataset 'Admission_Predict'**\n",
    "\n",
    "        - Features: 'GRE Score', 'TOEFL Score', 'University Rating', 'SOP', 'LOR', 'CGPA'\n",
    "        - Target: 'Chance of Admit'\n",
    "\n",
    "- Lakukan data splitting dengan proporsi 80:20 dan random_state = 42.\n",
    "\n",
    "- Gunakan model Ridge Regression dan Lasso Regression dengan berbagai nilai alpha (100000, 10000, 1000, 100, 10, 1, 0.1, 0.01, 0.001).\n",
    "  \n",
    "- Berapa nilai alpha terbaik untuk tiap model?\n",
    "  \n",
    "- Bandingkan performa kedua model ditinjau dari nilai RMSE-nya, manakah yang lebih baik?"
   ]
  },
  {
   "cell_type": "code",
   "execution_count": 28,
   "metadata": {},
   "outputs": [
    {
     "data": {
      "text/html": [
       "<div>\n",
       "<style scoped>\n",
       "    .dataframe tbody tr th:only-of-type {\n",
       "        vertical-align: middle;\n",
       "    }\n",
       "\n",
       "    .dataframe tbody tr th {\n",
       "        vertical-align: top;\n",
       "    }\n",
       "\n",
       "    .dataframe thead th {\n",
       "        text-align: right;\n",
       "    }\n",
       "</style>\n",
       "<table border=\"1\" class=\"dataframe\">\n",
       "  <thead>\n",
       "    <tr style=\"text-align: right;\">\n",
       "      <th></th>\n",
       "      <th>Serial No.</th>\n",
       "      <th>GRE Score</th>\n",
       "      <th>TOEFL Score</th>\n",
       "      <th>University Rating</th>\n",
       "      <th>SOP</th>\n",
       "      <th>LOR</th>\n",
       "      <th>CGPA</th>\n",
       "      <th>Research</th>\n",
       "      <th>Chance of Admit</th>\n",
       "    </tr>\n",
       "  </thead>\n",
       "  <tbody>\n",
       "    <tr>\n",
       "      <th>0</th>\n",
       "      <td>1</td>\n",
       "      <td>337</td>\n",
       "      <td>118</td>\n",
       "      <td>4</td>\n",
       "      <td>4.5</td>\n",
       "      <td>4.5</td>\n",
       "      <td>9.65</td>\n",
       "      <td>1</td>\n",
       "      <td>0.92</td>\n",
       "    </tr>\n",
       "    <tr>\n",
       "      <th>1</th>\n",
       "      <td>2</td>\n",
       "      <td>324</td>\n",
       "      <td>107</td>\n",
       "      <td>4</td>\n",
       "      <td>4.0</td>\n",
       "      <td>4.5</td>\n",
       "      <td>8.87</td>\n",
       "      <td>1</td>\n",
       "      <td>0.76</td>\n",
       "    </tr>\n",
       "    <tr>\n",
       "      <th>2</th>\n",
       "      <td>3</td>\n",
       "      <td>316</td>\n",
       "      <td>104</td>\n",
       "      <td>3</td>\n",
       "      <td>3.0</td>\n",
       "      <td>3.5</td>\n",
       "      <td>8.00</td>\n",
       "      <td>1</td>\n",
       "      <td>0.72</td>\n",
       "    </tr>\n",
       "    <tr>\n",
       "      <th>3</th>\n",
       "      <td>4</td>\n",
       "      <td>322</td>\n",
       "      <td>110</td>\n",
       "      <td>3</td>\n",
       "      <td>3.5</td>\n",
       "      <td>2.5</td>\n",
       "      <td>8.67</td>\n",
       "      <td>1</td>\n",
       "      <td>0.80</td>\n",
       "    </tr>\n",
       "    <tr>\n",
       "      <th>4</th>\n",
       "      <td>5</td>\n",
       "      <td>314</td>\n",
       "      <td>103</td>\n",
       "      <td>2</td>\n",
       "      <td>2.0</td>\n",
       "      <td>3.0</td>\n",
       "      <td>8.21</td>\n",
       "      <td>0</td>\n",
       "      <td>0.65</td>\n",
       "    </tr>\n",
       "    <tr>\n",
       "      <th>...</th>\n",
       "      <td>...</td>\n",
       "      <td>...</td>\n",
       "      <td>...</td>\n",
       "      <td>...</td>\n",
       "      <td>...</td>\n",
       "      <td>...</td>\n",
       "      <td>...</td>\n",
       "      <td>...</td>\n",
       "      <td>...</td>\n",
       "    </tr>\n",
       "    <tr>\n",
       "      <th>395</th>\n",
       "      <td>396</td>\n",
       "      <td>324</td>\n",
       "      <td>110</td>\n",
       "      <td>3</td>\n",
       "      <td>3.5</td>\n",
       "      <td>3.5</td>\n",
       "      <td>9.04</td>\n",
       "      <td>1</td>\n",
       "      <td>0.82</td>\n",
       "    </tr>\n",
       "    <tr>\n",
       "      <th>396</th>\n",
       "      <td>397</td>\n",
       "      <td>325</td>\n",
       "      <td>107</td>\n",
       "      <td>3</td>\n",
       "      <td>3.0</td>\n",
       "      <td>3.5</td>\n",
       "      <td>9.11</td>\n",
       "      <td>1</td>\n",
       "      <td>0.84</td>\n",
       "    </tr>\n",
       "    <tr>\n",
       "      <th>397</th>\n",
       "      <td>398</td>\n",
       "      <td>330</td>\n",
       "      <td>116</td>\n",
       "      <td>4</td>\n",
       "      <td>5.0</td>\n",
       "      <td>4.5</td>\n",
       "      <td>9.45</td>\n",
       "      <td>1</td>\n",
       "      <td>0.91</td>\n",
       "    </tr>\n",
       "    <tr>\n",
       "      <th>398</th>\n",
       "      <td>399</td>\n",
       "      <td>312</td>\n",
       "      <td>103</td>\n",
       "      <td>3</td>\n",
       "      <td>3.5</td>\n",
       "      <td>4.0</td>\n",
       "      <td>8.78</td>\n",
       "      <td>0</td>\n",
       "      <td>0.67</td>\n",
       "    </tr>\n",
       "    <tr>\n",
       "      <th>399</th>\n",
       "      <td>400</td>\n",
       "      <td>333</td>\n",
       "      <td>117</td>\n",
       "      <td>4</td>\n",
       "      <td>5.0</td>\n",
       "      <td>4.0</td>\n",
       "      <td>9.66</td>\n",
       "      <td>1</td>\n",
       "      <td>0.95</td>\n",
       "    </tr>\n",
       "  </tbody>\n",
       "</table>\n",
       "<p>400 rows × 9 columns</p>\n",
       "</div>"
      ],
      "text/plain": [
       "     Serial No.  GRE Score  TOEFL Score  University Rating  SOP  LOR   CGPA  \\\n",
       "0             1        337          118                  4  4.5   4.5  9.65   \n",
       "1             2        324          107                  4  4.0   4.5  8.87   \n",
       "2             3        316          104                  3  3.0   3.5  8.00   \n",
       "3             4        322          110                  3  3.5   2.5  8.67   \n",
       "4             5        314          103                  2  2.0   3.0  8.21   \n",
       "..          ...        ...          ...                ...  ...   ...   ...   \n",
       "395         396        324          110                  3  3.5   3.5  9.04   \n",
       "396         397        325          107                  3  3.0   3.5  9.11   \n",
       "397         398        330          116                  4  5.0   4.5  9.45   \n",
       "398         399        312          103                  3  3.5   4.0  8.78   \n",
       "399         400        333          117                  4  5.0   4.0  9.66   \n",
       "\n",
       "     Research  Chance of Admit   \n",
       "0           1              0.92  \n",
       "1           1              0.76  \n",
       "2           1              0.72  \n",
       "3           1              0.80  \n",
       "4           0              0.65  \n",
       "..        ...               ...  \n",
       "395         1              0.82  \n",
       "396         1              0.84  \n",
       "397         1              0.91  \n",
       "398         0              0.67  \n",
       "399         1              0.95  \n",
       "\n",
       "[400 rows x 9 columns]"
      ]
     },
     "execution_count": 28,
     "metadata": {},
     "output_type": "execute_result"
    }
   ],
   "source": [
    "df = pd.read_csv('Admission_Predict.csv')\n",
    "df"
   ]
  },
  {
   "cell_type": "code",
   "execution_count": 29,
   "metadata": {},
   "outputs": [
    {
     "name": "stdout",
     "output_type": "stream",
     "text": [
      "<class 'pandas.core.frame.DataFrame'>\n",
      "RangeIndex: 400 entries, 0 to 399\n",
      "Data columns (total 9 columns):\n",
      " #   Column             Non-Null Count  Dtype  \n",
      "---  ------             --------------  -----  \n",
      " 0   Serial No.         400 non-null    int64  \n",
      " 1   GRE Score          400 non-null    int64  \n",
      " 2   TOEFL Score        400 non-null    int64  \n",
      " 3   University Rating  400 non-null    int64  \n",
      " 4   SOP                400 non-null    float64\n",
      " 5   LOR                400 non-null    float64\n",
      " 6   CGPA               400 non-null    float64\n",
      " 7   Research           400 non-null    int64  \n",
      " 8   Chance of Admit    400 non-null    float64\n",
      "dtypes: float64(4), int64(5)\n",
      "memory usage: 28.3 KB\n"
     ]
    }
   ],
   "source": [
    "df.info()"
   ]
  },
  {
   "cell_type": "code",
   "execution_count": 30,
   "metadata": {},
   "outputs": [
    {
     "data": {
      "text/plain": [
       "Serial No.           0\n",
       "GRE Score            0\n",
       "TOEFL Score          0\n",
       "University Rating    0\n",
       "SOP                  0\n",
       "LOR                  0\n",
       "CGPA                 0\n",
       "Research             0\n",
       "Chance of Admit      0\n",
       "dtype: int64"
      ]
     },
     "execution_count": 30,
     "metadata": {},
     "output_type": "execute_result"
    }
   ],
   "source": [
    "df.isna().sum()"
   ]
  },
  {
   "cell_type": "code",
   "execution_count": 31,
   "metadata": {},
   "outputs": [
    {
     "data": {
      "text/plain": [
       "0"
      ]
     },
     "execution_count": 31,
     "metadata": {},
     "output_type": "execute_result"
    }
   ],
   "source": [
    "df.duplicated().sum()"
   ]
  },
  {
   "cell_type": "code",
   "execution_count": 32,
   "metadata": {},
   "outputs": [
    {
     "data": {
      "text/plain": [
       "Index(['Serial No.', 'GRE Score', 'TOEFL Score', 'University Rating', 'SOP',\n",
       "       'LOR ', 'CGPA', 'Research', 'Chance of Admit '],\n",
       "      dtype='object')"
      ]
     },
     "execution_count": 32,
     "metadata": {},
     "output_type": "execute_result"
    }
   ],
   "source": [
    "df.columns"
   ]
  },
  {
   "cell_type": "code",
   "execution_count": 33,
   "metadata": {},
   "outputs": [],
   "source": [
    "df.columns = df.columns.str.strip()"
   ]
  },
  {
   "cell_type": "markdown",
   "metadata": {},
   "source": [
    "# EDA"
   ]
  },
  {
   "cell_type": "code",
   "execution_count": 34,
   "metadata": {},
   "outputs": [
    {
     "data": {
      "text/plain": [
       "0    0.92\n",
       "1    0.76\n",
       "2    0.72\n",
       "3    0.80\n",
       "4    0.65\n",
       "Name: Chance of Admit, dtype: float64"
      ]
     },
     "execution_count": 34,
     "metadata": {},
     "output_type": "execute_result"
    }
   ],
   "source": [
    "Y =df['Chance of Admit']\n",
    "Y.head()"
   ]
  },
  {
   "cell_type": "code",
   "execution_count": 35,
   "metadata": {},
   "outputs": [
    {
     "data": {
      "text/html": [
       "<div>\n",
       "<style scoped>\n",
       "    .dataframe tbody tr th:only-of-type {\n",
       "        vertical-align: middle;\n",
       "    }\n",
       "\n",
       "    .dataframe tbody tr th {\n",
       "        vertical-align: top;\n",
       "    }\n",
       "\n",
       "    .dataframe thead th {\n",
       "        text-align: right;\n",
       "    }\n",
       "</style>\n",
       "<table border=\"1\" class=\"dataframe\">\n",
       "  <thead>\n",
       "    <tr style=\"text-align: right;\">\n",
       "      <th></th>\n",
       "      <th>GRE Score</th>\n",
       "      <th>TOEFL Score</th>\n",
       "      <th>University Rating</th>\n",
       "      <th>SOP</th>\n",
       "      <th>LOR</th>\n",
       "      <th>CGPA</th>\n",
       "    </tr>\n",
       "  </thead>\n",
       "  <tbody>\n",
       "    <tr>\n",
       "      <th>0</th>\n",
       "      <td>337</td>\n",
       "      <td>118</td>\n",
       "      <td>4</td>\n",
       "      <td>4.5</td>\n",
       "      <td>4.5</td>\n",
       "      <td>9.65</td>\n",
       "    </tr>\n",
       "    <tr>\n",
       "      <th>1</th>\n",
       "      <td>324</td>\n",
       "      <td>107</td>\n",
       "      <td>4</td>\n",
       "      <td>4.0</td>\n",
       "      <td>4.5</td>\n",
       "      <td>8.87</td>\n",
       "    </tr>\n",
       "    <tr>\n",
       "      <th>2</th>\n",
       "      <td>316</td>\n",
       "      <td>104</td>\n",
       "      <td>3</td>\n",
       "      <td>3.0</td>\n",
       "      <td>3.5</td>\n",
       "      <td>8.00</td>\n",
       "    </tr>\n",
       "    <tr>\n",
       "      <th>3</th>\n",
       "      <td>322</td>\n",
       "      <td>110</td>\n",
       "      <td>3</td>\n",
       "      <td>3.5</td>\n",
       "      <td>2.5</td>\n",
       "      <td>8.67</td>\n",
       "    </tr>\n",
       "    <tr>\n",
       "      <th>4</th>\n",
       "      <td>314</td>\n",
       "      <td>103</td>\n",
       "      <td>2</td>\n",
       "      <td>2.0</td>\n",
       "      <td>3.0</td>\n",
       "      <td>8.21</td>\n",
       "    </tr>\n",
       "  </tbody>\n",
       "</table>\n",
       "</div>"
      ],
      "text/plain": [
       "   GRE Score  TOEFL Score  University Rating  SOP  LOR  CGPA\n",
       "0        337          118                  4  4.5  4.5  9.65\n",
       "1        324          107                  4  4.0  4.5  8.87\n",
       "2        316          104                  3  3.0  3.5  8.00\n",
       "3        322          110                  3  3.5  2.5  8.67\n",
       "4        314          103                  2  2.0  3.0  8.21"
      ]
     },
     "execution_count": 35,
     "metadata": {},
     "output_type": "execute_result"
    }
   ],
   "source": [
    "X = df.drop(columns=['Serial No.', 'Research', 'Chance of Admit'])\n",
    "X.head()"
   ]
  },
  {
   "cell_type": "code",
   "execution_count": 36,
   "metadata": {},
   "outputs": [
    {
     "data": {
      "text/plain": [
       "array([[0.94      , 0.92857143, 0.75      , 0.875     , 0.875     ,\n",
       "        0.91346154],\n",
       "       [0.68      , 0.53571429, 0.75      , 0.75      , 0.875     ,\n",
       "        0.66346154],\n",
       "       [0.52      , 0.42857143, 0.5       , 0.5       , 0.625     ,\n",
       "        0.38461538],\n",
       "       ...,\n",
       "       [0.8       , 0.85714286, 0.75      , 1.        , 0.875     ,\n",
       "        0.84935897],\n",
       "       [0.44      , 0.39285714, 0.5       , 0.625     , 0.75      ,\n",
       "        0.63461538],\n",
       "       [0.86      , 0.89285714, 0.75      , 1.        , 0.75      ,\n",
       "        0.91666667]])"
      ]
     },
     "execution_count": 36,
     "metadata": {},
     "output_type": "execute_result"
    }
   ],
   "source": [
    "X = MinMaxScaler().fit(X).transform(X)\n",
    "X"
   ]
  },
  {
   "cell_type": "code",
   "execution_count": 37,
   "metadata": {},
   "outputs": [
    {
     "data": {
      "text/plain": [
       "array([[0.64      , 0.64285714, 0.5       , 0.625     , 0.375     ,\n",
       "        0.59935897],\n",
       "       [0.56      , 0.64285714, 0.5       , 0.75      , 0.5       ,\n",
       "        0.64102564],\n",
       "       [1.        , 1.        , 1.        , 0.875     , 0.875     ,\n",
       "        0.99679487],\n",
       "       ...,\n",
       "       [0.32      , 0.46428571, 0.25      , 0.375     , 0.5       ,\n",
       "        0.45512821],\n",
       "       [0.24      , 0.25      , 0.        , 0.25      , 0.25      ,\n",
       "        0.14423077],\n",
       "       [0.48      , 0.5       , 0.25      , 0.75      , 0.625     ,\n",
       "        0.46474359]])"
      ]
     },
     "metadata": {},
     "output_type": "display_data"
    },
    {
     "data": {
      "text/plain": [
       "array([[0.22      , 0.42857143, 0.5       , 0.625     , 0.75      ,\n",
       "        0.42307692],\n",
       "       [0.42      , 0.35714286, 0.5       , 0.875     , 0.75      ,\n",
       "        0.58974359],\n",
       "       [1.        , 0.78571429, 1.        , 0.75      , 0.75      ,\n",
       "        0.8974359 ],\n",
       "       [0.7       , 0.57142857, 0.75      , 0.875     , 0.75      ,\n",
       "        0.72435897],\n",
       "       [0.22      , 0.17857143, 0.25      , 0.5       , 0.5       ,\n",
       "        0.34615385],\n",
       "       [1.        , 0.82142857, 1.        , 0.875     , 0.875     ,\n",
       "        0.84935897],\n",
       "       [0.14      , 0.14285714, 0.25      , 0.375     , 0.125     ,\n",
       "        0.34935897],\n",
       "       [0.26      , 0.25      , 0.5       , 0.25      , 0.375     ,\n",
       "        0.27564103],\n",
       "       [0.44      , 0.46428571, 0.25      , 0.25      , 0.375     ,\n",
       "        0.52884615],\n",
       "       [0.66      , 0.75      , 0.5       , 0.75      , 0.5       ,\n",
       "        0.80769231],\n",
       "       [0.66      , 0.57142857, 0.5       , 0.625     , 0.5       ,\n",
       "        0.57692308],\n",
       "       [0.88      , 0.85714286, 0.75      , 0.75      , 0.625     ,\n",
       "        0.87820513],\n",
       "       [0.52      , 0.35714286, 0.5       , 0.25      , 0.5       ,\n",
       "        0.19230769],\n",
       "       [0.62      , 0.67857143, 1.        , 1.        , 1.        ,\n",
       "        0.84935897],\n",
       "       [0.38      , 0.46428571, 1.        , 0.625     , 0.625     ,\n",
       "        0.56410256],\n",
       "       [0.46      , 0.53571429, 0.25      , 0.375     , 0.25      ,\n",
       "        0.54487179],\n",
       "       [0.36      , 0.39285714, 0.25      , 0.5       , 0.625     ,\n",
       "        0.54166667],\n",
       "       [0.14      , 0.14285714, 0.25      , 0.375     , 0.25      ,\n",
       "        0.20192308],\n",
       "       [0.58      , 0.5       , 0.5       , 0.625     , 0.375     ,\n",
       "        0.49038462],\n",
       "       [0.9       , 0.89285714, 1.        , 1.        , 1.        ,\n",
       "        0.96794872],\n",
       "       [0.22      , 0.25      , 0.25      , 0.5       , 0.25      ,\n",
       "        0.45512821],\n",
       "       [0.48      , 0.46428571, 0.5       , 0.625     , 0.375     ,\n",
       "        0.48076923],\n",
       "       [0.56      , 0.5       , 0.5       , 0.25      , 0.5       ,\n",
       "        0.59294872],\n",
       "       [0.18      , 0.14285714, 0.25      , 0.125     , 0.25      ,\n",
       "        0.33974359],\n",
       "       [0.94      , 0.92857143, 0.75      , 0.875     , 0.875     ,\n",
       "        0.91346154],\n",
       "       [0.7       , 0.53571429, 0.5       , 0.5       , 0.625     ,\n",
       "        0.74038462],\n",
       "       [0.42      , 0.46428571, 0.5       , 0.625     , 0.5       ,\n",
       "        0.52884615],\n",
       "       [0.12      , 0.25      , 0.25      , 0.375     , 0.375     ,\n",
       "        0.39423077],\n",
       "       [0.36      , 0.39285714, 0.25      , 0.375     , 0.75      ,\n",
       "        0.5       ],\n",
       "       [0.72      , 0.71428571, 0.5       , 0.625     , 0.5       ,\n",
       "        0.72115385],\n",
       "       [0.68      , 0.64285714, 0.5       , 0.625     , 0.625     ,\n",
       "        0.71794872],\n",
       "       [0.92      , 0.92857143, 1.        , 0.875     , 1.        ,\n",
       "        0.875     ],\n",
       "       [0.44      , 0.42857143, 0.5       , 0.625     , 0.75      ,\n",
       "        0.41346154],\n",
       "       [0.16      , 0.25      , 0.25      , 0.75      , 0.25      ,\n",
       "        0.25641026],\n",
       "       [0.44      , 0.53571429, 0.25      , 0.375     , 0.625     ,\n",
       "        0.47115385],\n",
       "       [0.18      , 0.35714286, 0.5       , 0.75      , 0.625     ,\n",
       "        0.58333333],\n",
       "       [0.6       , 0.64285714, 0.25      , 0.75      , 0.625     ,\n",
       "        0.56410256],\n",
       "       [0.36      , 0.5       , 0.5       , 0.5       , 0.5       ,\n",
       "        0.46153846],\n",
       "       [0.32      , 0.5       , 0.25      , 0.25      , 0.375     ,\n",
       "        0.42948718],\n",
       "       [0.84      , 0.92857143, 0.25      , 0.875     , 0.625     ,\n",
       "        0.82051282],\n",
       "       [0.58      , 0.46428571, 0.5       , 0.5       , 0.625     ,\n",
       "        0.59935897],\n",
       "       [0.6       , 0.39285714, 0.5       , 0.5       , 0.5       ,\n",
       "        0.28846154],\n",
       "       [0.74      , 0.71428571, 0.5       , 0.5       , 0.5       ,\n",
       "        0.61538462],\n",
       "       [1.        , 1.        , 1.        , 0.875     , 0.875     ,\n",
       "        0.8974359 ],\n",
       "       [0.6       , 0.64285714, 1.        , 1.        , 0.875     ,\n",
       "        0.77564103],\n",
       "       [0.68      , 0.64285714, 0.75      , 0.875     , 0.75      ,\n",
       "        0.75320513],\n",
       "       [0.98      , 0.85714286, 0.75      , 0.75      , 0.625     ,\n",
       "        0.96153846],\n",
       "       [0.3       , 0.53571429, 0.25      , 0.375     , 0.375     ,\n",
       "        0.51923077],\n",
       "       [0.76      , 0.85714286, 1.        , 1.        , 1.        ,\n",
       "        0.86538462],\n",
       "       [0.66      , 0.75      , 0.75      , 0.75      , 0.875     ,\n",
       "        0.77884615],\n",
       "       [0.78      , 0.78571429, 1.        , 0.75      , 1.        ,\n",
       "        0.80128205],\n",
       "       [0.66      , 0.42857143, 0.5       , 0.75      , 0.75      ,\n",
       "        0.52564103],\n",
       "       [0.66      , 0.57142857, 1.        , 0.75      , 0.75      ,\n",
       "        0.62179487],\n",
       "       [0.84      , 0.92857143, 1.        , 1.        , 1.        ,\n",
       "        0.91025641],\n",
       "       [0.5       , 0.46428571, 0.25      , 0.25      , 0.375     ,\n",
       "        0.2724359 ],\n",
       "       [0.34      , 0.57142857, 0.25      , 0.75      , 0.625     ,\n",
       "        0.28846154],\n",
       "       [0.36      , 0.60714286, 0.25      , 0.5       , 0.75      ,\n",
       "        0.52884615],\n",
       "       [0.64      , 0.64285714, 0.75      , 0.75      , 1.        ,\n",
       "        0.74679487],\n",
       "       [0.2       , 0.17857143, 0.25      , 0.5       , 0.5       ,\n",
       "        0.41666667],\n",
       "       [0.62      , 0.71428571, 1.        , 1.        , 1.        ,\n",
       "        0.72435897],\n",
       "       [0.22      , 0.5       , 0.75      , 0.375     , 0.5       ,\n",
       "        0.53525641],\n",
       "       [0.52      , 0.32142857, 0.25      , 0.375     , 0.25      ,\n",
       "        0.48717949],\n",
       "       [0.34      , 0.64285714, 0.75      , 0.75      , 0.875     ,\n",
       "        0.50320513],\n",
       "       [0.12      , 0.10714286, 0.25      , 0.5       , 0.25      ,\n",
       "        0.23717949],\n",
       "       [0.44      , 0.46428571, 0.25      , 0.375     , 0.5       ,\n",
       "        0.42307692],\n",
       "       [0.74      , 0.39285714, 0.5       , 0.75      , 0.75      ,\n",
       "        0.48076923],\n",
       "       [0.26      , 0.28571429, 0.25      , 0.5       , 0.625     ,\n",
       "        0.40384615],\n",
       "       [0.74      , 0.75      , 0.75      , 0.875     , 1.        ,\n",
       "        0.75      ],\n",
       "       [0.78      , 0.67857143, 0.75      , 0.875     , 0.75      ,\n",
       "        0.77884615],\n",
       "       [0.48      , 0.57142857, 0.75      , 0.875     , 0.75      ,\n",
       "        0.71794872],\n",
       "       [0.54      , 0.5       , 0.5       , 0.75      , 0.625     ,\n",
       "        0.54487179],\n",
       "       [0.78      , 0.64285714, 0.25      , 0.75      , 0.5       ,\n",
       "        0.75320513],\n",
       "       [0.8       , 0.82142857, 1.        , 0.875     , 0.5       ,\n",
       "        0.81410256],\n",
       "       [0.64      , 0.64285714, 1.        , 1.        , 0.75      ,\n",
       "        0.73717949],\n",
       "       [0.12      , 0.17857143, 0.25      , 0.125     , 0.25      ,\n",
       "        0.32051282],\n",
       "       [0.52      , 0.46428571, 0.5       , 0.5       , 0.625     ,\n",
       "        0.61858974],\n",
       "       [0.44      , 0.64285714, 0.25      , 0.625     , 0.5       ,\n",
       "        0.55448718],\n",
       "       [0.22      , 0.21428571, 0.        , 0.25      , 0.5       ,\n",
       "        0.39423077],\n",
       "       [0.78      , 0.96428571, 0.75      , 0.875     , 0.875     ,\n",
       "        0.75641026],\n",
       "       [0.46      , 0.60714286, 0.5       , 0.75      , 0.625     ,\n",
       "        0.70512821]])"
      ]
     },
     "metadata": {},
     "output_type": "display_data"
    },
    {
     "data": {
      "text/plain": [
       "3      0.80\n",
       "18     0.63\n",
       "202    0.97\n",
       "250    0.74\n",
       "274    0.58\n",
       "       ... \n",
       "71     0.96\n",
       "106    0.87\n",
       "270    0.72\n",
       "348    0.57\n",
       "102    0.62\n",
       "Name: Chance of Admit, Length: 320, dtype: float64"
      ]
     },
     "metadata": {},
     "output_type": "display_data"
    },
    {
     "data": {
      "text/plain": [
       "209    0.68\n",
       "280    0.68\n",
       "33     0.90\n",
       "210    0.79\n",
       "93     0.44\n",
       "       ... \n",
       "246    0.72\n",
       "227    0.64\n",
       "369    0.67\n",
       "176    0.90\n",
       "289    0.79\n",
       "Name: Chance of Admit, Length: 80, dtype: float64"
      ]
     },
     "metadata": {},
     "output_type": "display_data"
    }
   ],
   "source": [
    "X_train, X_test, Y_train, Y_test = train_test_split(X,Y,test_size=0.2,random_state=42)\n",
    "display(X_train, X_test, Y_train, Y_test)"
   ]
  },
  {
   "cell_type": "markdown",
   "metadata": {},
   "source": [
    "# Lasso"
   ]
  },
  {
   "cell_type": "code",
   "execution_count": 38,
   "metadata": {},
   "outputs": [
    {
     "name": "stdout",
     "output_type": "stream",
     "text": [
      "        Alpha  RMSE_Train  RMSE_Test\n",
      "0  100000.000    0.137470   0.160764\n",
      "1   10000.000    0.137470   0.160764\n",
      "2    1000.000    0.137470   0.160764\n",
      "3     100.000    0.137470   0.160764\n",
      "4      10.000    0.137470   0.160764\n",
      "5       1.000    0.137470   0.160764\n",
      "6       0.100    0.137470   0.160764\n",
      "7       0.010    0.083653   0.103012\n",
      "8       0.001    0.063096   0.071085\n"
     ]
    },
    {
     "data": {
      "image/png": "[encoded data removed]",
      "text/plain": [
       "<Figure size 640x480 with 1 Axes>"
      ]
     },
     "metadata": {},
     "output_type": "display_data"
    }
   ],
   "source": [
    "l_alpha = np.logspace(5,-3,9)\n",
    "df_rmse = pd.DataFrame(columns=['Alpha', 'RMSE_Train','RMSE_Test'])\n",
    "for i in l_alpha:\n",
    "    model = Lasso(alpha=i)\n",
    "    model.fit(X_train,Y_train)\n",
    "    Y_train_predict = model.predict(X_train)\n",
    "    Y_test_predict = model.predict(X_test) \n",
    "    df_rmse.loc[len(df_rmse)] = {'Alpha': i, 'RMSE_Train': mean_squared_error(Y_train, Y_train_predict)**(0.5), 'RMSE_Test': mean_squared_error(Y_test, Y_test_predict)**(0.5)}\n",
    "\n",
    "print(df_rmse)\n",
    "sns.lineplot(data=df_rmse, x=range(len(df_rmse)), y='RMSE_Train', label='RMSE_Train')\n",
    "sns.lineplot(data=df_rmse, x=range(len(df_rmse)), y='RMSE_Test', label='RMSE_Test')\n",
    "plt.xticks(ticks=range(len(df_rmse)),labels=df_rmse['Alpha'], fontsize=10)\n",
    "plt.yticks(fontsize=10)\n",
    "plt.xlabel('Alpha', fontsize=15)\n",
    "plt.ylabel('RMSE', fontsize=15)\n",
    "plt.title('Alpha vs RMSE using Lasso', fontsize=20)\n",
    "plt.show()"
   ]
  },
  {
   "cell_type": "markdown",
   "metadata": {},
   "source": [
    "# Ridge"
   ]
  },
  {
   "cell_type": "code",
   "execution_count": 39,
   "metadata": {},
   "outputs": [
    {
     "name": "stdout",
     "output_type": "stream",
     "text": [
      "        Alpha  RMSE_Train  RMSE_Test\n",
      "0  100000.000    0.137391   0.160681\n",
      "1   10000.000    0.136683   0.159939\n",
      "2    1000.000    0.130179   0.153108\n",
      "3     100.000    0.096458   0.116685\n",
      "4      10.000    0.067969   0.080017\n",
      "5       1.000    0.063293   0.070886\n",
      "6       0.100    0.062851   0.069279\n",
      "7       0.010    0.062843   0.069117\n",
      "8       0.001    0.062842   0.069101\n"
     ]
    },
    {
     "data": {
      "image/png": "[encoded data removed]",
      "text/plain": [
       "<Figure size 640x480 with 1 Axes>"
      ]
     },
     "metadata": {},
     "output_type": "display_data"
    }
   ],
   "source": [
    "l_alpha = np.logspace(5,-3,9)\n",
    "df_rmse = pd.DataFrame(columns=['Alpha', 'RMSE_Train','RMSE_Test'])\n",
    "for i in l_alpha:\n",
    "    model = Ridge(alpha=i)\n",
    "    model.fit(X_train,Y_train)\n",
    "    Y_train_predict = model.predict(X_train)\n",
    "    Y_test_predict = model.predict(X_test) \n",
    "    df_rmse.loc[len(df_rmse)] = {'Alpha': i, 'RMSE_Train': mean_squared_error(Y_train, Y_train_predict)**(0.5), 'RMSE_Test': mean_squared_error(Y_test, Y_test_predict)**(0.5)}\n",
    "\n",
    "print(df_rmse)\n",
    "sns.lineplot(data=df_rmse, x=range(len(df_rmse)), y='RMSE_Train', label='RMSE_Train')\n",
    "sns.lineplot(data=df_rmse, x=range(len(df_rmse)), y='RMSE_Test', label='RMSE_Test')\n",
    "plt.xticks(ticks=range(len(df_rmse)),labels=df_rmse['Alpha'], fontsize=10)\n",
    "plt.yticks(fontsize=10)\n",
    "plt.xlabel('Alpha', fontsize=15)\n",
    "plt.ylabel('RMSE', fontsize=15)\n",
    "plt.title('Alpha vs RMSE using Ridge', fontsize=20)\n",
    "plt.show()"
   ]
  }
 ],
 "metadata": {
  "kernelspec": {
   "display_name": "Python 3",
   "language": "python",
   "name": "python3"
  },
  "language_info": {
   "codemirror_mode": {
    "name": "ipython",
    "version": 3
   },
   "file_extension": ".py",
   "mimetype": "text/x-python",
   "name": "python",
   "nbconvert_exporter": "python",
   "pygments_lexer": "ipython3",
   "version": "3.11.4"
  },
  "orig_nbformat": 4
 },
 "nbformat": 4,
 "nbformat_minor": 2
}
