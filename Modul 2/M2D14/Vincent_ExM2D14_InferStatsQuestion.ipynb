{
 "cells": [
  {
   "attachments": {},
   "cell_type": "markdown",
   "metadata": {},
   "source": [
    "## **Modul 2: Data Analysis - Inferential Statistics**"
   ]
  },
  {
   "attachments": {},
   "cell_type": "markdown",
   "metadata": {},
   "source": [
    "### **Pemahaman Materi**"
   ]
  },
  {
   "attachments": {},
   "cell_type": "markdown",
   "metadata": {},
   "source": [
    "1. Apa yang dimaksud dengan populasi dan sample? Berikan Contohnya!"
   ]
  },
  {
   "cell_type": "code",
   "execution_count": 5,
   "metadata": {},
   "outputs": [],
   "source": [
    "# Populasi adalah seluruh data dari objek yang diamati, sample melainkan hanya representasi dari populasi.\n",
    "# Contoh: Survey 273.8 Juta Populasi penduduk Indonesia dengan sample sebesar 50 Juta penduduk."
   ]
  },
  {
   "attachments": {},
   "cell_type": "markdown",
   "metadata": {},
   "source": [
    "2. Apa yang dimaksud dengan hipotesis? Apa perbedaan Null Hypothesis (Ho) dan Alternative Hypothesis (Ha)? Berikan contohnya!"
   ]
  },
  {
   "cell_type": "code",
   "execution_count": 6,
   "metadata": {},
   "outputs": [],
   "source": [
    "# Hipotesis adalah praduga suatu hasil yang berasal dari dugaan maupun referensi terdahulu.\n",
    "# Ho dugaan yang ditentukan saat ini. (Pernyataan terhadap suatu populasi)\n",
    "# Ha bantahan/alternatif dugaan saat ini.\n",
    "# Ho: Jumlah penduduk pria di Indonesia == Jumlah penduduk wanita di Indonesia\n",
    "# Ha: Jumlah penduduk pria di Indonesia != Jumlah penduduk wanita di Indonesia"
   ]
  },
  {
   "attachments": {},
   "cell_type": "markdown",
   "metadata": {},
   "source": [
    "### **One tail vs Two tail**\n",
    "\n",
    "Jika kita ingin melakukan eksperimen atau survey untuk membuktikan pertanyaan di bawah ini, uji apa yang lebih cocok (One tail test atau Two tail test)?\n",
    "\n",
    "1.\tApakah rata-rata tinggi orang Indonesia pada tahun 2000 dan 2020 berbeda?\n",
    "2.\tApakah rata-rata nilai IELTS sekolah international di Jakarta lebih besar dari sekolah umum?\n",
    "3.\tApakah orang yang rajin oleh raga sepeda memiliki kadar lemak tubuh lebih rendah dari orang yang jarang olah raga?  \n",
    "4.\tApakah rata-rata satu karung kecil beras yang diproduksi oleh Company A adalah 5.000g?   \n",
    "5.\tApakah jumlah siswa yang lulus UN tahun 2010 ada 95%? \n",
    "\n"
   ]
  },
  {
   "cell_type": "code",
   "execution_count": 7,
   "metadata": {},
   "outputs": [],
   "source": [
    "# 1. Two Tail T-test\n",
    "# 2. One Tail T-test\n",
    "# 3. One Tail T-test\n",
    "# 4. Two Tail T-test\n",
    "# 5. Two Tail T-test"
   ]
  },
  {
   "attachments": {},
   "cell_type": "markdown",
   "metadata": {},
   "source": [
    "### **Uji Statistik / Hypotheses Testing**\n",
    "1.\tDari 5 provider internet di Indonesia, apakah semuanya memiliki rata-rata penghasilan yang sama di tahun 2020?\n",
    "2.\tApakah orang yang rajin oleh raga sepeda memiliki kadar lemak tubuh lebih rendah dari sebelum mereka berolah raga?\n",
    "3.\tApakah orang yang rajin oleh raga sepeda memiliki kadar lemak tubuh lebih rendah dari orang yang jarang olah raga?  \n",
    "4.\tApakah rata-rata satu karung kecil beras yang diproduksi oleh Company A adalah 5.000g?   "
   ]
  },
  {
   "cell_type": "code",
   "execution_count": 8,
   "metadata": {},
   "outputs": [],
   "source": [
    "# 1. One Way Anova F-Test\n",
    "# 2. One Tail Paired Two Sample T-test\n",
    "# 3. One Tail Unpaired Two Sample T-test\n",
    "# 4. One Sample T-Test"
   ]
  },
  {
   "attachments": {},
   "cell_type": "markdown",
   "metadata": {},
   "source": [
    "### **Referensi buku statistika:**\n",
    "\n",
    "- Statistics The Art and Science of Learning from Data (Agresti et al., 2018)\n",
    "- Businees Statistics for Contemporary Decision Making (Black, 2012)\n",
    "- Practical Statistics for Data Scientist (Bruce & Bruce, 2017)"
   ]
  }
 ],
 "metadata": {
  "kernelspec": {
   "display_name": "Python 3.10.5 ('pwdenv')",
   "language": "python",
   "name": "python3"
  },
  "language_info": {
   "codemirror_mode": {
    "name": "ipython",
    "version": 3
   },
   "file_extension": ".py",
   "mimetype": "text/x-python",
   "name": "python",
   "nbconvert_exporter": "python",
   "pygments_lexer": "ipython3",
   "version": "3.11.4"
  },
  "orig_nbformat": 4,
  "vscode": {
   "interpreter": {
    "hash": "26d83cb9ebc769f8a392797c85547e3220df367d4f886ed011b3f771d6a84444"
   }
  }
 },
 "nbformat": 4,
 "nbformat_minor": 2
}
