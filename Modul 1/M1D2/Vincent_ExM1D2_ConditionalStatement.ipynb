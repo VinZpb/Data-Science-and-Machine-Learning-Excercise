{
 "cells": [
  {
   "attachments": {},
   "cell_type": "markdown",
   "metadata": {},
   "source": [
    "Soal 1"
   ]
  },
  {
   "cell_type": "code",
   "execution_count": 11,
   "metadata": {},
   "outputs": [
    {
     "name": "stdout",
     "output_type": "stream",
     "text": [
      "Angka 7 tergolong bilangan ganjil\n"
     ]
    }
   ],
   "source": [
    "a=int(input(\"Masukan Angka : \"))\n",
    "x=\"ganjil\"\n",
    "y=\"genap\"\n",
    "if a%2==0:\n",
    "    print(f\"Angka {a} tergolong bilangan {y}\")\n",
    "else:\n",
    "    print(f\"Angka {a} tergolong bilangan {x}\")\n"
   ]
  },
  {
   "attachments": {},
   "cell_type": "markdown",
   "metadata": {},
   "source": [
    "Soal 2"
   ]
  },
  {
   "cell_type": "code",
   "execution_count": 7,
   "metadata": {},
   "outputs": [
    {
     "name": "stdout",
     "output_type": "stream",
     "text": [
      "Massa 67.0 kg dan Tinggi Badan 1.78 m\n",
      "IMT = 21.1, Berat badan ideal\n"
     ]
    }
   ],
   "source": [
    "m=float(input(\"Masukan Massa (kg) :\"))\n",
    "t=float(input(\"Masukan Tinggi (cm) :\"))\n",
    "IMT=m/((t/100)**2)\n",
    "IMT=round(IMT,1)\n",
    "print(f\"Massa {m} kg dan Tinggi Badan {t/100} m\")\n",
    "if 0<=IMT<18.5:\n",
    "    print(f\"IMT = {IMT}, Berat badan kurang\")\n",
    "elif 18.5<=IMT<24.9:\n",
    "    print(f\"IMT = {IMT}, Berat badan ideal\")\n",
    "elif 25<=IMT<29.9:\n",
    "    print(f\"IMT = {IMT}, Berat badan berlebih\")\n",
    "elif 30<=IMT<39.9:\n",
    "    print(f\"IMT = {IMT}, Berat badan sangat berlebih\")\n",
    "else :\n",
    "    print(f\"IMT = {IMT}, Obesitas\")\n",
    "\n",
    "    \n"
   ]
  },
  {
   "attachments": {},
   "cell_type": "markdown",
   "metadata": {},
   "source": [
    "Soal 3"
   ]
  },
  {
   "cell_type": "code",
   "execution_count": 10,
   "metadata": {},
   "outputs": [
    {
     "name": "stdout",
     "output_type": "stream",
     "text": [
      "Detail Belanja\n",
      "\n",
      "Apel   : 3 x 10000 = 30000\n",
      "Jeruk  : 2 x 15000 = 30000\n",
      "Anggur : 5 x 20000 = 100000\n",
      "\n",
      "Total  : 160000\n",
      "\n",
      "Terima kasih\n",
      "Uang kembali anda 15000\n"
     ]
    }
   ],
   "source": [
    "jap=input(\"Masukkan Jumlah Apel :\" )\n",
    "jje=input(\"Masukkan Jumlah Jeruk :\" )\n",
    "jan=input(\"Masukkan Jumlah Anggur :\" )\n",
    "hap=10000\n",
    "hje=15000\n",
    "han=20000\n",
    "thap=int(jap)*hap\n",
    "thje=int(jje)*hje\n",
    "than=int(jan)*han\n",
    "total=thap+thje+than\n",
    "print(\"Detail Belanja\")\n",
    "print(\"\")\n",
    "print(f\"Apel   : {jap} x {hap} = {thap}\")\n",
    "print(f\"Jeruk  : {jje} x {hje} = {thje}\")\n",
    "print(f\"Anggur : {jan} x {han} = {than}\")\n",
    "print(\"\")\n",
    "print(f\"Total  : {total}\")\n",
    "print(\"\")\n",
    "saldo=int(input(\"Masukkan Jumlah Uang :\"))\n",
    "if saldo<total:\n",
    "    print(\"Transaksi anda dibatalkan\")\n",
    "    print(f\"Uangnya kurang sebesar {total-saldo}\")\n",
    "elif saldo==total:\n",
    "    print(\"Terima kasih\")\n",
    "else :\n",
    "    print(\"Terima kasih\")\n",
    "    print(f\"Uang kembali anda {saldo-total}\")"
   ]
  }
 ],
 "metadata": {
  "kernelspec": {
   "display_name": "Python 3",
   "language": "python",
   "name": "python3"
  },
  "language_info": {
   "codemirror_mode": {
    "name": "ipython",
    "version": 3
   },
   "file_extension": ".py",
   "mimetype": "text/x-python",
   "name": "python",
   "nbconvert_exporter": "python",
   "pygments_lexer": "ipython3",
   "version": "3.11.4"
  },
  "orig_nbformat": 4
 },
 "nbformat": 4,
 "nbformat_minor": 2
}
