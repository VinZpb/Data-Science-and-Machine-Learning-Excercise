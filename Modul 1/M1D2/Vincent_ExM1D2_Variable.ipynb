{
 "cells": [
  {
   "attachments": {},
   "cell_type": "markdown",
   "metadata": {},
   "source": [
    "Soal 1"
   ]
  },
  {
   "cell_type": "code",
   "execution_count": 2,
   "metadata": {},
   "outputs": [
    {
     "name": "stdout",
     "output_type": "stream",
     "text": [
      "0.6944444444444445\n"
     ]
    }
   ],
   "source": [
    "x=4\n",
    "y=3\n",
    "z=2\n",
    "w=(((x+y*z)/(x*y))**z)\n",
    "print(w)"
   ]
  },
  {
   "attachments": {},
   "cell_type": "markdown",
   "metadata": {},
   "source": [
    "Soal 2"
   ]
  },
  {
   "cell_type": "code",
   "execution_count": 3,
   "metadata": {},
   "outputs": [
    {
     "name": "stdout",
     "output_type": "stream",
     "text": [
      "Kuadrat dari 1.3 = 1.6900000000000002\n"
     ]
    }
   ],
   "source": [
    "a=input(\"Silahkan masukan angka berapapun: \" )\n",
    "a=float(a)\n",
    "c=2\n",
    "b=a**c\n",
    "print(f\"Kuadrat dari {a} = {b}\")"
   ]
  },
  {
   "attachments": {},
   "cell_type": "markdown",
   "metadata": {},
   "source": [
    "Soal 3"
   ]
  },
  {
   "cell_type": "code",
   "execution_count": 5,
   "metadata": {},
   "outputs": [
    {
     "name": "stdout",
     "output_type": "stream",
     "text": [
      "485 Hari = 1 tahun, 4 bulan, 0 minggu, 5 hari\n"
     ]
    }
   ],
   "source": [
    "H=485\n",
    "t=H//360\n",
    "s=H%360\n",
    "b=s//30\n",
    "s=s%30\n",
    "m=s//7\n",
    "s=s%7\n",
    "h=s\n",
    "print(f\"{H} Hari = {t} tahun, {b} bulan, {m} minggu, {h} hari\")"
   ]
  },
  {
   "attachments": {},
   "cell_type": "markdown",
   "metadata": {},
   "source": [
    "Soal 4"
   ]
  },
  {
   "cell_type": "code",
   "execution_count": 7,
   "metadata": {},
   "outputs": [
    {
     "name": "stdout",
     "output_type": "stream",
     "text": [
      "2 tahun lagi: umur Andi = 16.0,umur Budi = 37.0\n"
     ]
    }
   ],
   "source": [
    "ra=4\n",
    "rb=10\n",
    "rt=ra+rb\n",
    "ut=49\n",
    "ua=ra/rt*ut\n",
    "ub=rb/rt*ut\n",
    "print(f\"2 tahun lagi: umur Andi = {ua+2},umur Budi = {ub+2}\")"
   ]
  },
  {
   "attachments": {},
   "cell_type": "markdown",
   "metadata": {},
   "source": [
    "Soal 5"
   ]
  },
  {
   "cell_type": "code",
   "execution_count": 12,
   "metadata": {},
   "outputs": [
    {
     "name": "stdout",
     "output_type": "stream",
     "text": [
      "Mobil A & B akan bertabrakan pada 10:12 WIB\n"
     ]
    }
   ],
   "source": [
    "s=120\n",
    "va=60\n",
    "vb=40\n",
    "sth=9\n",
    "stm=0\n",
    "tm=int(s/((va+vb)/60))\n",
    "th=tm//60\n",
    "tm=tm%60\n",
    "print(f\"Mobil A & B akan bertabrakan pada {sth+th}:{stm+tm} WIB\")"
   ]
  },
  {
   "attachments": {},
   "cell_type": "markdown",
   "metadata": {},
   "source": [
    "Soal 6"
   ]
  },
  {
   "cell_type": "code",
   "execution_count": 13,
   "metadata": {},
   "outputs": [
    {
     "name": "stdout",
     "output_type": "stream",
     "text": [
      "\n",
      "Detail Belanja\n",
      "\n",
      "Apel : 3 x 10000 = 30000\n",
      "Jeruk : 2 x 15000 = 30000\n",
      "Anggur : 5 x 20000 = 100000\n",
      "\n",
      "Total : 160000\n"
     ]
    }
   ],
   "source": [
    "ja=input(\"Masukkan Jumlah Apel :\" )\n",
    "jj=input(\"Masukkan Jumlah Jeruk :\" )\n",
    "jan=input(\"Masukkan Jumlah Anggur :\" )\n",
    "ha=10000\n",
    "hj=15000\n",
    "hjan=20000\n",
    "tha=int(ja)*ha\n",
    "thj=int(jj)*hj\n",
    "thjan=int(jan)*hjan\n",
    "total=tha+thj+thjan\n",
    "print(\"\")\n",
    "print(\"Detail Belanja\")\n",
    "print(\"\")\n",
    "print(f\"Apel : {ja} x {ha} = {tha}\")\n",
    "print(f\"Jeruk : {jj} x {hj} = {thj}\")\n",
    "print(f\"Anggur : {jan} x {hjan} = {thjan}\")\n",
    "print(\"\")\n",
    "print(f\"Total : {total}\")"
   ]
  }
 ],
 "metadata": {
  "kernelspec": {
   "display_name": "Python 3",
   "language": "python",
   "name": "python3"
  },
  "language_info": {
   "codemirror_mode": {
    "name": "ipython",
    "version": 3
   },
   "file_extension": ".py",
   "mimetype": "text/x-python",
   "name": "python",
   "nbconvert_exporter": "python",
   "pygments_lexer": "ipython3",
   "version": "3.11.4"
  },
  "orig_nbformat": 4
 },
 "nbformat": 4,
 "nbformat_minor": 2
}
